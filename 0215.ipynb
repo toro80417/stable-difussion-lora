{
  "cells": [
    {
      "cell_type": "markdown",
      "metadata": {
        "id": "view-in-github",
        "colab_type": "text"
      },
      "source": [
        "<a href=\"https://colab.research.google.com/github/toro80417/stable-difussion-lora/blob/main/0215.ipynb\" target=\"_parent\"><img src=\"https://colab.research.google.com/assets/colab-badge.svg\" alt=\"Open In Colab\"/></a>"
      ]
    },
    {
      "cell_type": "markdown",
      "metadata": {
        "id": "A6OFCYOzNjDX"
      },
      "source": [
        "#Stable Diffusion WebUI Jack&Ellie V1\n",
        "這套web ui並不是我原創的，我只添加了語言系統的記錄功能(中文化)111，以及介面的簡化\n",
        "<br />\n",
        "原始碼出自[Stable Diffusion WebUI Colab](https://github.com/ddPn08/stable-diffusion-webui-colab) by [ddPn08](https://github.com/ddpn08/)\n",
        "\n",
        "## Wiki 原始說明\n",
        "https://github.com/ddPn08/automatic1111-colab/wiki\n",
        "<br />\n",
        "##執行方法\n",
        "###每次執行都輸入Ctrl+F9運行全部命令即可\n",
        "###注意如果無GPU則無法使用"
      ]
    },
    {
      "cell_type": "markdown",
      "source": [
        "###讀取環境參數"
      ],
      "metadata": {
        "id": "7hcvCi_8ThB_"
      }
    },
    {
      "cell_type": "code",
      "execution_count": null,
      "metadata": {
        "id": "Y4xxtQfuJiWM"
      },
      "outputs": [],
      "source": [
        "! nvidia-smi\n",
        "! nvcc -V\n",
        "! free -h"
      ]
    },
    {
      "cell_type": "markdown",
      "metadata": {
        "id": "TE45Pqn_N81E"
      },
      "source": [
        "## 1 - 安裝"
      ]
    },
    {
      "cell_type": "markdown",
      "metadata": {
        "id": "4cXkcQu6OEAu"
      },
      "source": [
        "### 1.1 複製SD Web-ui\n",
        "[Wiki / English](https://github.com/ddPn08/automatic1111-colab/wiki/1.-Setup-%7C-EN#11-clone-repository) - [Wiki / 日本語](https://github.com/ddPn08/automatic1111-colab/wiki/1.-Setup-%7C-JP#11-リポジトリのクローン)"
      ]
    },
    {
      "cell_type": "code",
      "execution_count": null,
      "metadata": {
        "id": "yzdbQDudNZ6j",
        "cellView": "form"
      },
      "outputs": [],
      "source": [
        "# @markdown # 安裝來源與分支維持默認即可\n",
        "%cd /content/\n",
        "repository_url = \"https://github.com/toro80417/stable-diffusion-webui\"  # @param {type: \"string\"}\n",
        "webui_branch = \"master\"  # @param {type: \"string\"}\n",
        "\n",
        "! git clone {repository_url}\n",
        "%cd /content/stable-diffusion-webui\n",
        "! git checkout {webui_branch}"
      ]
    },
    {
      "cell_type": "markdown",
      "metadata": {
        "id": "tOHgDng2c0FX"
      },
      "source": [
        "### 1.2 安裝模型與導入設定\n",
        "[Wiki / English](https://github.com/ddPn08/automatic1111-colab/wiki/1.-Setup-%7C-EN#12-setup-models) - [Wiki / 日本語](https://github.com/ddPn08/automatic1111-colab/wiki/1.-Setup-%7C-JP#12-モデルのセットアップ)"
      ]
    },
    {
      "cell_type": "code",
      "execution_count": null,
      "metadata": {
        "id": "Mls4_48XOrTd",
        "cellView": "form"
      },
      "outputs": [],
      "source": [
        "# @markdown # 設定StableDiffusion模型\n",
        "\n",
        "# @markdown ---\n",
        "\n",
        "%cd /content/\n",
        "\n",
        "data_dir = \"/content/data\"  # @param {type:\"string\"}\n",
        "\n",
        "# @markdown **可選 | 如果模型不在 `{data_dir}/models` 文件夾中，請下載模型**\n",
        "\n",
        "# @markdown 獲取huggingface權限 [這裡](https://huggingface.co/settings/tokens)一般不須設定\n",
        "auth_token = \"\"  # @param {type:\"string\"}\n",
        "# @markdown 如果模型不在雲端文件夾中，自動下載模型(從[這裡](https://huggingface.co/models?pipeline_tag=text-to-image&sort=downloads)找要的下載模型)\n",
        "download_if_missing = True  # @param {type:\"boolean\"}\n",
        "# @markdown 自動下載模型網址默認為Anything4.5，下方url2,url3留白即可除非要一次下載大量模型\n",
        "model_url = \"https://huggingface.co/WarriorMama777/OrangeMixs/resolve/main/Models/AbyssOrangeMix2/AbyssOrangeMix2_hard.safetensors\" #@param [\"https://huggingface.co/hakurei/waifu-diffusion-v1-3/resolve/main/wd-v1-3-float16.ckpt\", \"https://huggingface.co/Linaqruf/anything-v3.0/resolve/main/anything-v3-fp32-pruned.safetensors\", \"https://huggingface.co/CompVis/stable-diffusion-v-1-4-original/resolve/main/sd-v1-4.ckpt\", \"https://huggingface.co/stabilityai/stable-diffusion-2-1-base/resolve/main/v2-1_512-ema-pruned.ckpt\"] {allow-input: true}\n",
        "model_url2 = \"https://huggingface.co/YoungMasterFromSect/Trauter_LoRAs/resolve/main/LoRA/Genshin-Impact/Eula/eulaHard.safetensors\" #@param [\"https://huggingface.co/hakurei/waifu-diffusion-v1-3/resolve/main/wd-v1-3-float16.ckpt\", \"https://huggingface.co/AdamOswald1/anything-v5.0/resolve/main/Anything-V3.0.ckpt\", \"https://huggingface.co/CompVis/stable-diffusion-v-1-4-original/resolve/main/sd-v1-4.ckpt\", \"https://huggingface.co/stabilityai/stable-diffusion-2-1-base/resolve/main/v2-1_512-ema-pruned.ckpt\"] {allow-input: true}\n",
        "model_url3 = \"\" #@param [\"https://huggingface.co/hakurei/waifu-diffusion-v1-3/resolve/main/wd-v1-3-float16.ckpt\", \"https://huggingface.co/AdamOswald1/anything-v5.0/resolve/main/Anything-V3.0.ckpt\", \"https://huggingface.co/CompVis/stable-diffusion-v-1-4-original/resolve/main/sd-v1-4.ckpt\", \"https://huggingface.co/stabilityai/stable-diffusion-2-1-base/resolve/main/v2-1_512-ema-pruned.ckpt\"] {allow-input: true}\n",
        "\n",
        "# @markdown 使用VAE模型，下方url2,url3留白即可除非要一次下載大量VAE\n",
        "use_vae = True # @param {type:\"boolean\"}\n",
        "vae_url = \"https://huggingface.co/WarriorMama777/OrangeMixs/resolve/main/VAEs/orangemix.vae.pt\" #@param [\"https://huggingface.co/AdamOswald1/anything-v5.0/resolve/main/Anything-V3.0.vae.pt\",\"https://huggingface.co/AdamOswald1/anything-v5.0/resolve/main/anything-v4.0.vae.pt\"] {allow-input: true}\n",
        "vae_url2 = \"\" #@param [\"https://huggingface.co/AdamOswald1/anything-v5.0/resolve/main/Anything-V3.0.vae.pt\",\"https://huggingface.co/AdamOswald1/anything-v5.0/resolve/main/anything-v4.0.vae.pt\"] {allow-input: true}\n",
        "vae_url3 = \"\" #@param [\"https://huggingface.co/AdamOswald1/anything-v5.0/resolve/main/Anything-V3.0.vae.pt\",\"https://huggingface.co/AdamOswald1/anything-v5.0/resolve/main/anything-v4.0.vae.pt\"] {allow-input: true}\n",
        "\n",
        "\n",
        "urls = [model_url, model_url2, model_url3]\n",
        "vae_urls = [vae_url, vae_url2, vae_url3]\n",
        "\n",
        "# @markdown **可選 | 使用Google雲端空間(推薦使用未來執行可以加速)**\n",
        "mount_google_drive = True  # @param {type:\"boolean\"}\n",
        "# @markdown 如果加載多個models/vae，建議勾選force_model_download_locally意思是不保存到雲端硬碟(每次使用都需要重新再載)\n",
        "force_model_download_locally = False  # @param {type:\"boolean\"}\n",
        "# @markdown 強制重新安裝\n",
        "force_remount = False  # @param {type:\"boolean\"}\n",
        "#@markdown 雲端硬碟路徑(預設即可)\n",
        "import os\n",
        "\n",
        "mount_success = False\n",
        "drive_path = \"/content/drive\"\n",
        "if mount_google_drive and not os.path.exists(drive_path):\n",
        "    from google.colab import drive\n",
        "\n",
        "    try:\n",
        "        drive.mount(drive_path, force_remount=force_remount)\n",
        "        data_dir_gdrive = \"/content/drive/MyDrive/AI/automatic1111\"  # @param {type:\"string\"}\n",
        "        os.makedirs(data_dir_gdrive, exist_ok=True)\n",
        "        ! rm -Rf {data_dir} && ln -s {data_dir_gdrive} {data_dir}\n",
        "        mount_success = True\n",
        "    except:\n",
        "        print(\"...error mounting drive or with drive path variables\")\n",
        "        print(\"...reverting to default path variables\")\n",
        "\n",
        "if os.path.exists(f\"{data_dir}/script.pre.sh\"):\n",
        "    ! chmod +x {data_dir}/script.pre.sh\n",
        "    ! {data_dir}/script.pre.sh\n",
        "\n",
        "models_path = f\"{data_dir}/models\"\n",
        "output_path = f\"{data_dir}/outputs\"\n",
        "config_path = f\"{data_dir}/config\"\n",
        "scripts_path = f\"{data_dir}/scripts\"\n",
        "extensions_file_path = f\"{data_dir}/extensions.txt\"\n",
        "localizations_path = f\"{data_dir}/localizations\"\n",
        "\n",
        "if force_model_download_locally:\n",
        "    models_path = \"/content/models\"\n",
        "\n",
        "os.makedirs(models_path, exist_ok=True)\n",
        "os.makedirs(output_path, exist_ok=True)\n",
        "os.makedirs(config_path, exist_ok=True)\n",
        "os.makedirs(scripts_path, exist_ok=True)\n",
        "os.makedirs(localizations_path, exist_ok=True)\n",
        "os.makedirs(f\"{models_path}/Stable-diffusion\", exist_ok=True)\n",
        "os.makedirs(f\"{models_path}/VAE\", exist_ok=True)\n",
        "\n",
        "for script in os.listdir(scripts_path):\n",
        "    ! rm -Rf stable-diffusion-webui/scripts/{script} && ln -s {scripts_path}/{script} stable-diffusion-webui/scripts/{script}\n",
        "\n",
        "for dir in os.listdir(models_path):\n",
        "    if dir == \"embeddings\":\n",
        "        ! rm -Rf stable-diffusion-webui/embeddings && ln -s {models_path}/embeddings stable-diffusion-webui/embeddings\n",
        "    else:\n",
        "        ! rm -Rf stable-diffusion-webui/models/{dir} && ln -s {models_path}/{dir} stable-diffusion-webui/models/{dir}\n",
        "\n",
        "! rm -Rf stable-diffusion-webui/outputs && ln -s {data_dir}/outputs stable-diffusion-webui/outputs\n",
        "\n",
        "! rm -Rf stable-diffusion-webui/localizations && ln -s {localizations_path} stable-diffusion-webui/localizations\n",
        "\n",
        "for filename in [\"config.json\", \"ui-config.json\", \"styles.csv\", \"artists.csv\"]:\n",
        "    ! rm -f stable-diffusion-webui/{filename}\n",
        "    filepath = f\"{config_path}/{filename}\"\n",
        "    if not os.path.exists(filepath):\n",
        "        if filename.endswith(\".json\"):\n",
        "            with open(filepath, mode=\"w\") as f:\n",
        "                f.write(\"{}\")\n",
        "        else:\n",
        "            ! touch {config_path}/{filename}\n",
        "    ! ln -s {config_path}/{filename} stable-diffusion-webui/{filename}\n",
        "\n",
        "\n",
        "if download_if_missing:\n",
        "    for url in urls:\n",
        "        filename = url.split(\"/\")[-1]\n",
        "        if not os.path.exists(f\"{models_path}/Stable-diffusion/{filename}\"):\n",
        "            ! curl -LJ {url} -o {models_path}/Stable-diffusion/{filename} {'-H \"Authorization: Bearer ' + auth_token + '\"' if auth_token else \"\"}\n",
        "    if use_vae:\n",
        "      for vae_url in vae_urls:\n",
        "        vae_filename = vae_url.split(\"/\")[-1]\n",
        "        if not os.path.exists(f\"{models_path}/VAE/{vae_filename}\"):\n",
        "            ! curl -LJ {vae_url} -o {models_path}/VAE/{vae_filename} {'-H \"Authorization: Bearer ' + auth_token + '\"' if auth_token else \"\"}"
      ]
    },
    {
      "cell_type": "markdown",
      "metadata": {
        "id": "3JkrcrPBza-M"
      },
      "source": [
        "## 2 相關優化選項\n",
        "\n",
        "[Wiki / English](https://github.com/ddPn08/automatic1111-colab/wiki/2.-Launch-preferences-%7C-EN#2-launch-preferences) - [Wiki / 日本語](https://github.com/ddPn08/automatic1111-colab/wiki/2.-Launch-preferences-%7C-JP#2-起動設定)"
      ]
    },
    {
      "cell_type": "code",
      "execution_count": null,
      "metadata": {
        "id": "goUvyTZ4zd4l",
        "cellView": "form"
      },
      "outputs": [],
      "source": [
        "# @markdown ## 優化命令維持默認即可\n",
        "# @markdown no_half_vae命令如果不使用vae可取消\n",
        "import os\n",
        "\n",
        "no_half = False  # @param {type:\"boolean\"}\n",
        "no_half_vae = True  # @param {type:\"boolean\"}\n",
        "allow_code = False  # @param {type:\"boolean\"}\n",
        "no_progressbar_hiding = False  # @param {type:\"boolean\"}\n",
        "medvram = False  # @param {type:\"boolean\"}\n",
        "lowvram = False  # @param {type:\"boolean\"}\n",
        "xformers = True  # @param {type:\"boolean\"}\n",
        "disable_opt_split_attention = False  # @param {type:\"boolean\"}\n",
        "gradio_queue = True  # @param {type:\"boolean\"}\n",
        "theme_dark = False # @param {type:\"boolean\"}\n",
        "\n",
        "# @markdown ### 加入額外命令\n",
        "\n",
        "custom_arguments = \"\"  # @param {type:\"string\"}\n",
        "\n",
        "run_string_with_variables = {\n",
        "    \"--no-half\": f\"{no_half}\",\n",
        "    \"--no-half-vae\": f\"{no_half_vae}\",\n",
        "    \"--allow-code\": f\"{allow_code}\",\n",
        "    \"--no-progressbar-hiding\": f\"{no_progressbar_hiding}\",\n",
        "    \"--medvram\": f\"{medvram}\",\n",
        "    \"--lowvram\": f\"{lowvram}\",\n",
        "    \"--xformers\": f\"{xformers}\",\n",
        "    \"--disable-opt-split-attention\": f\"{disable_opt_split_attention}\",\n",
        "    \"--theme dark\": f\"{theme_dark}\",\n",
        "}\n",
        "if use_vae:\n",
        "      for vae_url in vae_urls:\n",
        "        vae_filename = vae_url.split(\"/\")[-1]\n",
        "        if os.path.exists(f\"{models_path}/VAE/{vae_filename}\") and vae_filename:\n",
        "           key = \"--vae-path /content/stable-diffusion-webui/models/VAE/\" + vae_filename\n",
        "           run_string_with_variables[key] = f\"{use_vae}\"\n",
        "\n",
        "\n",
        "advanced_options = {k for (k, v) in run_string_with_variables.items() if v == \"True\"}\n",
        "\n",
        "# @markdown <br>\n",
        "\n",
        "# @markdown ## 啟用密碼驗證（防止其他人使用 WebUI）\n",
        "\n",
        "\n",
        "use_gradio_auth = False  # @param {type:\"boolean\"}\n",
        "# @markdown #### 自訂帳號\n",
        "gradio_auth_username = \"username\"  # @param {type:\"string\"}\n",
        "# @markdown #### 自訂密碼\n",
        "gradio_auth_password = \"password\"  # @param {type:\"string\"}\n",
        "\n",
        "# @markdown <br>\n",
        "\n",
        "# @markdown # 進階 | 網絡偏好\n",
        "\n",
        "# @markdown <br>\n",
        "\n",
        "# @markdown ## 可選 | Ngrok 通道\n",
        "# @markdown ### Gradio 的共享 URL 不穩定且速度慢，可改用Ngrok\n",
        "# @markdown 從 [這裡](https://dashboard.ngrok.com/get-started/your-authtoken)取得授權碼\n",
        "use_ngrok = False  # @param {type: \"boolean\"}\n",
        "load_token_from_gdrive = True  # @param {type:\"boolean\"}\n",
        "ngrok_auth_token = \"\"  # @param {type: \"string\"}\n",
        "ngrok_region = \"default\"  # @param [\"default\", \"us\", \"eu\", \"au\", \"ap\", \"sa\", \"jp\", \"in\"]\n",
        "\n",
        "if os.path.exists(f\"{data_dir}/ngrok.txt\") and use_ngrok:\n",
        "    with open(f\"{data_dir}/ngrok.txt\", mode=\"r\") as f:\n",
        "        lines = f.readlines()\n",
        "        if not ngrok_auth_token and len(lines) > 0:\n",
        "            ngrok_auth_token = lines[0].strip()\n",
        "        if ngrok_region == \"default\" and len(lines) > 1:\n",
        "            ngrok_region = lines[1].strip()\n",
        "\n",
        "with open(f\"{data_dir}/ngrok.txt\", mode=\"w\") as f:\n",
        "    f.write(f\"{ngrok_auth_token}\\n{ngrok_region}\")\n",
        "\n",
        "if not ngrok_region or ngrok_region == \"default\":\n",
        "    ngrok_region = \"us\"\n",
        "\n",
        "# @markdown <br>\n",
        "\n",
        "# @markdown ## 擴充功能\n",
        "# @markdown ### 從雲端硬碟讀取已安裝擴充清單\n",
        "load_extensions_from_gdrive = True  # @param {type:\"boolean\"}\n",
        "# @markdown ### 擴充下載網址\n",
        "extensions = \"https://github.com/Coyote-A/ultimate-upscale-for-automatic1111\"  # @param {type:\"string\"}\n",
        "extensions = list(map(str.strip, extensions.split(\",\")))\n",
        "\n",
        "# @markdown <br>\n",
        "\n",
        "#  ## 儲存擴充資料到雲端硬碟\n",
        "#  **Deprecated** (Unexpected errors may occur)\n",
        "save_extensions_to_gdrive = False  \n",
        "\n",
        "if save_extensions_to_gdrive:\n",
        "    os.makedirs(f\"{data_dir}/extensions\", exist_ok=True)\n",
        "    ! rm -Rf stable-diffusion-webui/extensions && ln -s {data_dir}/extensions stable-diffusion-webui/extensions\n",
        "\n",
        "if load_extensions_from_gdrive and extensions_file_path:\n",
        "    if os.path.exists(extensions_file_path):\n",
        "        with open(extensions_file_path, mode=\"r\") as f:\n",
        "            for s in f:\n",
        "                url = s.strip()\n",
        "                if url not in extensions:\n",
        "                    extensions.append(url)\n",
        "    with open(extensions_file_path, mode=\"w+\") as f:\n",
        "        f.write(\"\\n\".join(extensions))\n",
        "\n",
        "share_args = f\" --share {'--gradio-queue' if gradio_queue else ''}\"\n",
        "\n",
        "vars = \" \".join(advanced_options)\n",
        "if not use_ngrok:\n",
        "    vars += share_args\n",
        "elif ngrok_auth_token and ngrok_region:\n",
        "    vars += f\" --ngrok {ngrok_auth_token} --ngrok-region {ngrok_region}\"\n",
        "elif not ngrok_auth_token or not ngrok_region:\n",
        "    vars += share_args\n",
        "\n",
        "if use_gradio_auth:\n",
        "    vars += f\" --gradio-auth {gradio_auth_username}:{gradio_auth_password}\"\n",
        "\n",
        "os.environ[\"COMMANDLINE_ARGS\"] = f\"{vars} {custom_arguments}\""
      ]
    },
    {
      "cell_type": "markdown",
      "metadata": {
        "id": "htQtwGXHTaob"
      },
      "source": [
        "## 3 - 啟動 WebUI\n",
        "[Wiki / English](https://github.com/ddPn08/automatic1111-colab/wiki/3.-Run-%7C-EN#set-up-the-environment) - [Wiki / 日本語](https://github.com/ddPn08/automatic1111-colab/wiki/3.-Run-%7C-JP)"
      ]
    },
    {
      "cell_type": "code",
      "execution_count": null,
      "metadata": {
        "id": "Ao2t5h5qG9HD",
        "cellView": "form"
      },
      "outputs": [],
      "source": [
        "# @markdown ## 設置環境\n",
        "# @markdown 需要大約10分鐘\n",
        "\n",
        "\n",
        "%cd /content/stable-diffusion-webui/extensions\n",
        "\n",
        "import os\n",
        "import sys\n",
        "\n",
        "for extension in extensions:\n",
        "    if extension.startswith(\"#\"):\n",
        "        continue\n",
        "    ! git clone {extension}\n",
        "    extension_name = extension.split(\"/\")[-1]\n",
        "    ! cd {extension_name} && git fetch\n",
        "\n",
        "%cd /content\n",
        "# @markdown 路徑維持默認即可\n",
        "\n",
        "conda_dir = \"/opt/conda\"  # @param{type:\"string\"}\n",
        "conda_bin = os.path.join(conda_dir, \"bin\", \"conda\")\n",
        "\n",
        "if not os.path.exists(conda_bin):\n",
        "    ! curl -O https://repo.anaconda.com/miniconda/Miniconda3-latest-Linux-x86_64.sh\n",
        "    ! chmod +x Miniconda3-latest-Linux-x86_64.sh\n",
        "    ! bash ./Miniconda3-latest-Linux-x86_64.sh -b -f -p {conda_dir}\n",
        "    ! rm Miniconda3-latest-Linux-x86_64.sh\n",
        "\n",
        "\n",
        "install_script = f\"\"\"\n",
        "eval \"$({conda_bin} shell.bash hook)\"\n",
        "cd stable-diffusion-webui\n",
        "python3 -m pip install --upgrade tensorrt triton\n",
        "python -c 'from launch import prepare_environment; prepare_environment()'\"\"\"\n",
        "! {install_script}\n",
        "\n",
        "# @markdown  \n",
        "# @markdown ## 可選 | 使用Lowram模式(不使用SD2系列模型可能無法使用)\n",
        "apply_lowram_patch = True  # @param {type: \"boolean\"}\n",
        "\n",
        "if apply_lowram_patch:\n",
        "    patches_dir = \"/content/patches\"\n",
        "    os.makedirs(patches_dir, exist_ok=True)\n",
        "    ! cd {patches_dir} && curl -LO https://raw.githubusercontent.com/ddPn08/automatic1111-colab/main/patches/stablediffusion-lowram.patch\n",
        "    ! cd /content/stable-diffusion-webui/repositories/stable-diffusion-stability-ai && git apply {patches_dir}/stablediffusion-lowram.patch\n",
        "\n",
        "\n",
        "os.environ[\n",
        "    \"LD_LIBRARY_PATH\"\n",
        "] = f\"{os.environ['LD_LIBRARY_PATH']}:/usr/local/envs/automatic/lib\"\n",
        "\n",
        "if os.path.exists(f\"{data_dir}/script.post.sh\"):\n",
        "    ! chmod +x {data_dir}/script.post.sh\n",
        "    ! {data_dir}/script.post.sh"
      ]
    },
    {
      "cell_type": "code",
      "execution_count": null,
      "metadata": {
        "id": "Y4ebYsPqTrGb",
        "cellView": "form"
      },
      "outputs": [],
      "source": [
        "# @markdown # 運行\n",
        "# @markdown 請記住，此腳本設置為永久運行。\n",
        "\n",
        "# @markdown  \n",
        "\n",
        "# @markdown ### 重要 - 單擊公共 URL 以在另一個網頁中啟動 WebUI(如圖示位置)\n",
        "\n",
        "# @markdown ![](https://user-images.githubusercontent.com/71378929/189563599-6df78bcf-133b-41e8-a55d-8ca3783cd933.png)\n",
        "\n",
        "%cd /content/stable-diffusion-webui/\n",
        "! git pull\n",
        "\n",
        "run_script = f\"\"\"\n",
        "eval \"$({conda_bin} shell.bash hook)\"\n",
        "accelerate launch --num_cpu_threads_per_process 1 launch.py\n",
        "\"\"\"\n",
        "! {run_script}"
      ]
    }
  ],
  "metadata": {
    "accelerator": "GPU",
    "colab": {
      "provenance": [],
      "private_outputs": true,
      "collapsed_sections": [
        "3JkrcrPBza-M",
        "htQtwGXHTaob"
      ],
      "include_colab_link": true
    },
    "gpuClass": "standard",
    "kernelspec": {
      "display_name": "automatic",
      "language": "python",
      "name": "python3"
    },
    "language_info": {
      "name": "python",
      "version": "3.10.0 | packaged by conda-forge | (default, Nov 10 2021, 13:20:59) [MSC v.1916 64 bit (AMD64)]"
    },
    "vscode": {
      "interpreter": {
        "hash": "27f3fb6862b547830c34fbd0390b87507e21782526fd5ca25cfe7dc4f2b0fdae"
      }
    }
  },
  "nbformat": 4,
  "nbformat_minor": 0
}